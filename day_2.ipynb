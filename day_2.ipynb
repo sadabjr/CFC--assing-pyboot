{
  "nbformat": 4,
  "nbformat_minor": 0,
  "metadata": {
    "colab": {
      "name": "day 2.ipynb",
      "provenance": []
    },
    "kernelspec": {
      "name": "python3",
      "display_name": "Python 3"
    },
    "language_info": {
      "name": "python"
    }
  },
  "cells": [
    {
      "cell_type": "code",
      "metadata": {
        "id": "Cc6HwhOEDzrT"
      },
      "source": [
        " name = 'ravi'\n",
        " "
      ],
      "execution_count": 1,
      "outputs": []
    },
    {
      "cell_type": "code",
      "metadata": {
        "colab": {
          "base_uri": "https://localhost:8080/"
        },
        "id": "qpCaitv_EF2Z",
        "outputId": "823812dc-df12-41ca-b04a-b44066557908"
      },
      "source": [
        "for ch in name:\n",
        "  print(ch)"
      ],
      "execution_count": 3,
      "outputs": [
        {
          "output_type": "stream",
          "text": [
            "r\n",
            "a\n",
            "v\n",
            "i\n"
          ],
          "name": "stdout"
        }
      ]
    },
    {
      "cell_type": "code",
      "metadata": {
        "id": "dF830ioNEF6d"
      },
      "source": [
        "#So string is itrable, indexable and immutable.\n",
        "#every string which is itrable is indexable"
      ],
      "execution_count": null,
      "outputs": []
    },
    {
      "cell_type": "code",
      "metadata": {
        "colab": {
          "base_uri": "https://localhost:8080/"
        },
        "id": "GUBaMXeHEyVT",
        "outputId": "866acf91-5f8c-4453-9dee-48a9cc817c9b"
      },
      "source": [
        "print(name[0])"
      ],
      "execution_count": 4,
      "outputs": [
        {
          "output_type": "stream",
          "text": [
            "r\n"
          ],
          "name": "stdout"
        }
      ]
    },
    {
      "cell_type": "code",
      "metadata": {
        "colab": {
          "base_uri": "https://localhost:8080/",
          "height": 35
        },
        "id": "Y3DWKWPVFqqg",
        "outputId": "8be67a70-9ef2-40ce-9074-ca4d2d15c025"
      },
      "source": [
        "#slicing\n",
        "name[0:2]"
      ],
      "execution_count": 5,
      "outputs": [
        {
          "output_type": "execute_result",
          "data": {
            "application/vnd.google.colaboratory.intrinsic+json": {
              "type": "string"
            },
            "text/plain": [
              "'ra'"
            ]
          },
          "metadata": {
            "tags": []
          },
          "execution_count": 5
        }
      ]
    },
    {
      "cell_type": "code",
      "metadata": {
        "colab": {
          "base_uri": "https://localhost:8080/"
        },
        "id": "-Kes08sFHWIF",
        "outputId": "ee916367-4ab4-4f14-ca5d-587405874f39"
      },
      "source": [
        "#list\n",
        "fruits=['apple', 'mango', 'banana']\n",
        "print(fruits)"
      ],
      "execution_count": 6,
      "outputs": [
        {
          "output_type": "stream",
          "text": [
            "['apple', 'mango', 'banana']\n"
          ],
          "name": "stdout"
        }
      ]
    },
    {
      "cell_type": "code",
      "metadata": {
        "colab": {
          "base_uri": "https://localhost:8080/",
          "height": 35
        },
        "id": "xKvRyWGrHxsm",
        "outputId": "6e950e43-3d66-4735-8c9d-fbf02e980092"
      },
      "source": [
        "fruits[0]"
      ],
      "execution_count": 7,
      "outputs": [
        {
          "output_type": "execute_result",
          "data": {
            "application/vnd.google.colaboratory.intrinsic+json": {
              "type": "string"
            },
            "text/plain": [
              "'apple'"
            ]
          },
          "metadata": {
            "tags": []
          },
          "execution_count": 7
        }
      ]
    },
    {
      "cell_type": "code",
      "metadata": {
        "colab": {
          "base_uri": "https://localhost:8080/"
        },
        "id": "CDhB6ZnWH7tF",
        "outputId": "d4342b46-b891-44b6-eeec-e33d6b77780e"
      },
      "source": [
        "fruits[0]='green apple'\n",
        "print(fruits)"
      ],
      "execution_count": 9,
      "outputs": [
        {
          "output_type": "stream",
          "text": [
            "['green apple', 'mango', 'banana']\n"
          ],
          "name": "stdout"
        }
      ]
    },
    {
      "cell_type": "code",
      "metadata": {
        "id": "lmTeRozeIEnj"
      },
      "source": [
        "fruits.append('lichi')"
      ],
      "execution_count": null,
      "outputs": []
    },
    {
      "cell_type": "code",
      "metadata": {
        "colab": {
          "base_uri": "https://localhost:8080/"
        },
        "id": "kAP99wYlIk-d",
        "outputId": "80b3bac2-9454-4ac9-9d00-6d71406cb162"
      },
      "source": [
        "fruits.reverse()\n",
        "print(fruits)"
      ],
      "execution_count": 10,
      "outputs": [
        {
          "output_type": "stream",
          "text": [
            "['banana', 'mango', 'green apple']\n"
          ],
          "name": "stdout"
        }
      ]
    },
    {
      "cell_type": "code",
      "metadata": {
        "colab": {
          "base_uri": "https://localhost:8080/"
        },
        "id": "LbL0e2SoJxf9",
        "outputId": "33e933dd-825d-48bb-9f3e-728f1012b03d"
      },
      "source": [
        "fruits.reverse\n",
        "print(fruits) "
      ],
      "execution_count": 11,
      "outputs": [
        {
          "output_type": "stream",
          "text": [
            "['banana', 'mango', 'green apple']\n"
          ],
          "name": "stdout"
        }
      ]
    },
    {
      "cell_type": "code",
      "metadata": {
        "id": "dkByVFJFKDyg"
      },
      "source": [
        "first = [10, 20]\n",
        "second = [46, 60]"
      ],
      "execution_count": null,
      "outputs": []
    },
    {
      "cell_type": "code",
      "metadata": {
        "id": "F0KP2YIgKR5_"
      },
      "source": [
        "combined = [first, second]\n",
        "copy = combined.copy()\n"
      ],
      "execution_count": null,
      "outputs": []
    },
    {
      "cell_type": "code",
      "metadata": {
        "colab": {
          "base_uri": "https://localhost:8080/"
        },
        "id": "5l46GXBaKbo1",
        "outputId": "fd0ffab6-39d7-46de-ee3c-8471aaf9b0d1"
      },
      "source": [
        "list(range(10))"
      ],
      "execution_count": 14,
      "outputs": [
        {
          "output_type": "execute_result",
          "data": {
            "text/plain": [
              "[0, 1, 2, 3, 4, 5, 6, 7, 8, 9]"
            ]
          },
          "metadata": {
            "tags": []
          },
          "execution_count": 14
        }
      ]
    },
    {
      "cell_type": "code",
      "metadata": {
        "colab": {
          "base_uri": "https://localhost:8080/"
        },
        "id": "Oc_T6DzeOjVr",
        "outputId": "92d3dff3-e564-421f-f4bd-31bf44bf8a64"
      },
      "source": [
        "list(range(10, 20, 2))"
      ],
      "execution_count": 16,
      "outputs": [
        {
          "output_type": "execute_result",
          "data": {
            "text/plain": [
              "[10, 12, 14, 16, 18]"
            ]
          },
          "metadata": {
            "tags": []
          },
          "execution_count": 16
        }
      ]
    },
    {
      "cell_type": "code",
      "metadata": {
        "colab": {
          "base_uri": "https://localhost:8080/",
          "height": 129
        },
        "id": "ZsFMakkeY_8n",
        "outputId": "4bacc34b-4531-4404-d632-7c095967e59b"
      },
      "source": [
        "#dictionary\n",
        "twod = [['apple': 'sweet red fruit', 'mango': 'king of fruits']]\n",
        "fruits = dict(twod)\n",
        "fruits\n",
        "    {'apple': 'sweet red fruit', 'mango': 'king of fruits'}\n",
        "fruits[\"apple\"]"
      ],
      "execution_count": 19,
      "outputs": [
        {
          "output_type": "error",
          "ename": "SyntaxError",
          "evalue": "ignored",
          "traceback": [
            "\u001b[0;36m  File \u001b[0;32m\"<ipython-input-19-f2c0610a894c>\"\u001b[0;36m, line \u001b[0;32m2\u001b[0m\n\u001b[0;31m    twod = [['apple': 'sweet red fruit', 'mango': 'king of fruits']]\u001b[0m\n\u001b[0m                    ^\u001b[0m\n\u001b[0;31mSyntaxError\u001b[0m\u001b[0;31m:\u001b[0m invalid syntax\n"
          ]
        }
      ]
    }
  ]
}